{
 "cells": [
  {
   "cell_type": "markdown",
   "id": "e2bac6b5-def6-45aa-bb17-b539019f02ff",
   "metadata": {},
   "source": [
    "### TODO:\n",
    "\n",
    "1. store in feast\n",
    "2. modify dataset with the following rules\n",
    "    - create \"standard yearly salary\"\n",
    "    - use the salary and pay_period:\n",
    "        + yearly -> use the mid-point\n",
    "        + hourly -> 40 hrs per week * number of weeks in a year\n",
    "        + monthly -> * 12 months\n",
    "        + bi-weekly -> * 2 * 12 months\n",
    "        + else -> consider without salary attribute (use for testing phase - predict)\n",
    "4. create a dataset with the following requirements\n",
    "    - only all which have description, min, max salary value"
   ]
  },
  {
   "cell_type": "code",
   "execution_count": 1,
   "id": "3a466161-082e-4205-9742-e9d0ca62d329",
   "metadata": {},
   "outputs": [],
   "source": [
    "import pandas as pd"
   ]
  },
  {
   "cell_type": "code",
   "execution_count": 2,
   "id": "1bc0d25f-d304-4fcb-8563-8456127b8328",
   "metadata": {},
   "outputs": [],
   "source": [
    "df = pd.read_parquet(\"../data/data_train_without_null.parquet\")"
   ]
  },
  {
   "cell_type": "code",
   "execution_count": 3,
   "id": "52b66759-2149-4fd3-8e9d-19ada40b052d",
   "metadata": {},
   "outputs": [
    {
     "data": {
      "text/plain": [
       "(job_id                          int64\n",
       " company_name                   object\n",
       " title                          object\n",
       " description                    object\n",
       " max_salary                    float64\n",
       " pay_period                     object\n",
       " location                       object\n",
       " company_id                    float64\n",
       " views                         float64\n",
       " med_salary                    float64\n",
       " min_salary                    float64\n",
       " formatted_work_type            object\n",
       " applies                       float64\n",
       " original_listed_time          float64\n",
       " remote_allowed                float64\n",
       " job_posting_url                object\n",
       " application_url                object\n",
       " application_type               object\n",
       " expiry                        float64\n",
       " closed_time                   float64\n",
       " formatted_experience_level     object\n",
       " skills_desc                    object\n",
       " listed_time                   float64\n",
       " posting_domain                 object\n",
       " sponsored                       int64\n",
       " work_type                      object\n",
       " currency                       object\n",
       " compensation_type              object\n",
       " normalized_salary             float64\n",
       " zip_code                      float64\n",
       " fips                          float64\n",
       " dtype: object,\n",
       " (29791, 31))"
      ]
     },
     "execution_count": 3,
     "metadata": {},
     "output_type": "execute_result"
    }
   ],
   "source": [
    "df.dtypes, df.shape"
   ]
  },
  {
   "cell_type": "code",
   "execution_count": 4,
   "id": "2dfd1dc3-e9f7-4385-932d-d4d9a98bd1a0",
   "metadata": {},
   "outputs": [
    {
     "data": {
      "text/plain": [
       "job_id                            0\n",
       "company_name                    455\n",
       "title                             0\n",
       "description                       0\n",
       "max_salary                        0\n",
       "pay_period                        0\n",
       "location                          0\n",
       "company_id                      454\n",
       "views                           441\n",
       "med_salary                    29791\n",
       "min_salary                        0\n",
       "formatted_work_type               0\n",
       "applies                       21907\n",
       "original_listed_time              0\n",
       "remote_allowed                25474\n",
       "job_posting_url                   0\n",
       "application_url               12056\n",
       "application_type                  0\n",
       "expiry                            0\n",
       "closed_time                   29658\n",
       "formatted_experience_level     6695\n",
       "skills_desc                   29590\n",
       "listed_time                       0\n",
       "posting_domain                13531\n",
       "sponsored                         0\n",
       "work_type                         0\n",
       "currency                          0\n",
       "compensation_type                 0\n",
       "normalized_salary                 0\n",
       "zip_code                       6028\n",
       "fips                           7535\n",
       "dtype: int64"
      ]
     },
     "execution_count": 4,
     "metadata": {},
     "output_type": "execute_result"
    }
   ],
   "source": [
    "df.isna().sum()"
   ]
  },
  {
   "cell_type": "code",
   "execution_count": 9,
   "id": "29de7982",
   "metadata": {},
   "outputs": [
    {
     "data": {
      "text/plain": [
       "15"
      ]
     },
     "execution_count": 9,
     "metadata": {},
     "output_type": "execute_result"
    }
   ],
   "source": [
    "# remove currencies which are not USD\n",
    "df.query(\"currency != 'USD'\").count()['currency']"
   ]
  },
  {
   "cell_type": "code",
   "execution_count": 15,
   "id": "9cc9aab5",
   "metadata": {},
   "outputs": [],
   "source": [
    "df = df.query(\"currency == 'USD'\")"
   ]
  },
  {
   "cell_type": "code",
   "execution_count": 16,
   "id": "4ada8b10",
   "metadata": {},
   "outputs": [
    {
     "data": {
      "text/plain": [
       "job_id                        29776\n",
       "company_name                  29323\n",
       "title                         29776\n",
       "description                   29776\n",
       "max_salary                    29776\n",
       "pay_period                    29776\n",
       "location                      29776\n",
       "company_id                    29324\n",
       "views                         29336\n",
       "med_salary                        0\n",
       "min_salary                    29776\n",
       "formatted_work_type           29776\n",
       "applies                        7882\n",
       "original_listed_time          29776\n",
       "remote_allowed                 4315\n",
       "job_posting_url               29776\n",
       "application_url               17725\n",
       "application_type              29776\n",
       "expiry                        29776\n",
       "closed_time                     132\n",
       "formatted_experience_level    23084\n",
       "skills_desc                     201\n",
       "listed_time                   29776\n",
       "posting_domain                16251\n",
       "sponsored                     29776\n",
       "work_type                     29776\n",
       "currency                      29776\n",
       "compensation_type             29776\n",
       "normalized_salary             29776\n",
       "zip_code                      23751\n",
       "fips                          22244\n",
       "dtype: int64"
      ]
     },
     "execution_count": 16,
     "metadata": {},
     "output_type": "execute_result"
    }
   ],
   "source": [
    "df.count()"
   ]
  },
  {
   "cell_type": "code",
   "execution_count": 124,
   "id": "b2657ca5",
   "metadata": {},
   "outputs": [],
   "source": [
    "df = df.drop(columns=[\"sponsored\"])"
   ]
  },
  {
   "cell_type": "code",
   "execution_count": null,
   "id": "0d2b7e3f",
   "metadata": {},
   "outputs": [],
   "source": [
    "df.query(\"company_name\")"
   ]
  },
  {
   "cell_type": "code",
   "execution_count": 117,
   "id": "e87890e8",
   "metadata": {},
   "outputs": [],
   "source": [
    "# df['remote_allowed'] = df['remote_allowed'].astype(str).str.strip().str.replace('', 0.0, regex=True)\n",
    "# df = df[~df['company_name'].isin([None, 'None'])]\n",
    "# df = df.fillna(0.0)\n",
    "# df['remote_allowed'] = df['remote_allowed'].fillna(0.0)\n",
    "# df['remote_allowed'].value_counts(dropna=False)\n",
    "import numpy as np\n",
    "df['remote_allowed'] = df['remote_allowed'].replace(0.0, 0)\n",
    "df['remote_allowed'] = df['remote_allowed'].astype(int)\n",
    "# df['remote_allowed'] = df['remote_allowed'].fillna(0.0)\n"
   ]
  },
  {
   "cell_type": "code",
   "execution_count": 140,
   "id": "54c7c71a",
   "metadata": {},
   "outputs": [
    {
     "data": {
      "text/plain": [
       "company_name         29323\n",
       "title                29323\n",
       "description          29323\n",
       "max_salary           29323\n",
       "pay_period           29323\n",
       "location             29323\n",
       "min_salary           29323\n",
       "remote_allowed       29323\n",
       "work_type            29323\n",
       "normalized_salary    29323\n",
       "dtype: int64"
      ]
     },
     "execution_count": 140,
     "metadata": {},
     "output_type": "execute_result"
    }
   ],
   "source": [
    "df.count()"
   ]
  },
  {
   "cell_type": "code",
   "execution_count": 119,
   "id": "41d4a851",
   "metadata": {},
   "outputs": [],
   "source": [
    "pd.set_option('display.max_colwidth', None)"
   ]
  },
  {
   "cell_type": "code",
   "execution_count": 139,
   "id": "515e1e6f",
   "metadata": {},
   "outputs": [
    {
     "data": {
      "text/plain": [
       "work_type\n",
       "FULL_TIME     24167\n",
       "CONTRACT       3203\n",
       "PART_TIME      1442\n",
       "TEMPORARY       278\n",
       "INTERNSHIP      146\n",
       "OTHER            86\n",
       "VOLUNTEER         1\n",
       "Name: count, dtype: int64"
      ]
     },
     "execution_count": 139,
     "metadata": {},
     "output_type": "execute_result"
    }
   ],
   "source": [
    "# df[\"pay_period\"].value_counts()\n",
    "# df[\"location\"].value_counts()\n",
    "# df[:100][\"normalized_salary\"]\n",
    "df[\"work_type\"].value_counts() # to convert\n",
    "# df[\"remote_allowed\"].value_counts() # to convert # done\n",
    "# df[:100][\"company_name\"] # to convert\n",
    "# df[:10][\"title\"] to convert\n",
    "# df[:2][\"description\"] to convert - also maybe investigate skill extraction\n",
    "# df[:100][\"formatted_experience_level\"] drop - it could be a case for prediction\n",
    "# df[:10][\"title\"]\n",
    "# df[\"sponsored\"].value_counts()"
   ]
  },
  {
   "cell_type": "markdown",
   "id": "d2b0d91f-e635-403f-b159-78581cce42d3",
   "metadata": {},
   "source": [
    "- job_id\n",
    "- title\n",
    "- description\n",
    "- max_salary\n",
    "- pay_period\n",
    "- med_salary\n",
    "- min_salary\n",
    "- compensation_type"
   ]
  },
  {
   "cell_type": "code",
   "execution_count": 141,
   "id": "701b3eb6",
   "metadata": {},
   "outputs": [],
   "source": [
    "df.to_parquet('data_train_features_need_preprocessing.parquet', engine='pyarrow', compression='snappy')"
   ]
  },
  {
   "cell_type": "code",
   "execution_count": 16,
   "id": "f0016b62-41de-4b9b-91b3-b652c2ec1911",
   "metadata": {},
   "outputs": [],
   "source": [
    "mask = (\n",
    "    df[\"title\"].notnull() & \n",
    "    df[\"description\"].notnull() & \n",
    "    df[\"max_salary\"].notnull() & \n",
    "    df[\"pay_period\"].notnull() &\n",
    "    df[\"min_salary\"].notnull()\n",
    ")"
   ]
  },
  {
   "cell_type": "code",
   "execution_count": 17,
   "id": "19ea79c4-56e9-44a7-89ef-56d7528648d6",
   "metadata": {},
   "outputs": [],
   "source": [
    "df_train = df[mask].copy()"
   ]
  },
  {
   "cell_type": "code",
   "execution_count": 18,
   "id": "55d69f29-8bfd-4d19-8433-53bab443722c",
   "metadata": {},
   "outputs": [
    {
     "data": {
      "text/plain": [
       "(job_id                          int64\n",
       " company_name                   object\n",
       " title                          object\n",
       " description                    object\n",
       " max_salary                    float64\n",
       " pay_period                     object\n",
       " location                       object\n",
       " company_id                    float64\n",
       " views                         float64\n",
       " med_salary                    float64\n",
       " min_salary                    float64\n",
       " formatted_work_type            object\n",
       " applies                       float64\n",
       " original_listed_time          float64\n",
       " remote_allowed                float64\n",
       " job_posting_url                object\n",
       " application_url                object\n",
       " application_type               object\n",
       " expiry                        float64\n",
       " closed_time                   float64\n",
       " formatted_experience_level     object\n",
       " skills_desc                    object\n",
       " listed_time                   float64\n",
       " posting_domain                 object\n",
       " sponsored                       int64\n",
       " work_type                      object\n",
       " currency                       object\n",
       " compensation_type              object\n",
       " normalized_salary             float64\n",
       " zip_code                      float64\n",
       " fips                          float64\n",
       " dtype: object,\n",
       " (29792, 31))"
      ]
     },
     "execution_count": 18,
     "metadata": {},
     "output_type": "execute_result"
    }
   ],
   "source": [
    "df_train.dtypes, df_train.shape"
   ]
  },
  {
   "cell_type": "code",
   "execution_count": 19,
   "id": "8ee460c7-0228-446e-b8d0-cdbaf4495611",
   "metadata": {},
   "outputs": [],
   "source": [
    "df_predict = df[~mask].copy()"
   ]
  },
  {
   "cell_type": "code",
   "execution_count": 20,
   "id": "5b721bc4-71ed-4889-8888-c1589bb460f8",
   "metadata": {},
   "outputs": [
    {
     "data": {
      "text/plain": [
       "(job_id                          int64\n",
       " company_name                   object\n",
       " title                          object\n",
       " description                    object\n",
       " max_salary                    float64\n",
       " pay_period                     object\n",
       " location                       object\n",
       " company_id                    float64\n",
       " views                         float64\n",
       " med_salary                    float64\n",
       " min_salary                    float64\n",
       " formatted_work_type            object\n",
       " applies                       float64\n",
       " original_listed_time          float64\n",
       " remote_allowed                float64\n",
       " job_posting_url                object\n",
       " application_url                object\n",
       " application_type               object\n",
       " expiry                        float64\n",
       " closed_time                   float64\n",
       " formatted_experience_level     object\n",
       " skills_desc                    object\n",
       " listed_time                   float64\n",
       " posting_domain                 object\n",
       " sponsored                       int64\n",
       " work_type                      object\n",
       " currency                       object\n",
       " compensation_type              object\n",
       " normalized_salary             float64\n",
       " zip_code                      float64\n",
       " fips                          float64\n",
       " dtype: object,\n",
       " (94057, 31))"
      ]
     },
     "execution_count": 20,
     "metadata": {},
     "output_type": "execute_result"
    }
   ],
   "source": [
    "df_predict.dtypes, df_predict.shape"
   ]
  },
  {
   "cell_type": "code",
   "execution_count": 21,
   "id": "091ad6ae-70c5-4426-bbc0-a72d5e027f96",
   "metadata": {},
   "outputs": [],
   "source": [
    "assert (df_train.shape[0] + df_predict.shape[0]) == df.shape[0], \"not correct data size, possibly data are missed\""
   ]
  },
  {
   "cell_type": "code",
   "execution_count": null,
   "id": "4a556afe-3de7-4908-92d3-5a3df19bfc9f",
   "metadata": {},
   "outputs": [],
   "source": []
  }
 ],
 "metadata": {
  "kernelspec": {
   "display_name": "Python 3 (nix-shell venv)",
   "language": "python",
   "name": "nix-shell-venv"
  },
  "language_info": {
   "codemirror_mode": {
    "name": "ipython",
    "version": 3
   },
   "file_extension": ".py",
   "mimetype": "text/x-python",
   "name": "python",
   "nbconvert_exporter": "python",
   "pygments_lexer": "ipython3",
   "version": "3.11.10"
  }
 },
 "nbformat": 4,
 "nbformat_minor": 5
}
