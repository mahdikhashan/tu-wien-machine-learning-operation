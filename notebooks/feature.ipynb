{
 "cells": [
  {
   "cell_type": "markdown",
   "id": "e2bac6b5-def6-45aa-bb17-b539019f02ff",
   "metadata": {},
   "source": [
    "### TODO:\n",
    "\n",
    "1. store in feast\n",
    "2. modify dataset with the following rules\n",
    "    - create \"standard yearly salary\"\n",
    "    - use the salary and pay_period:\n",
    "        + yearly -> use the mid-point\n",
    "        + hourly -> 40 hrs per week * number of weeks in a year\n",
    "        + monthly -> * 12 months\n",
    "        + bi-weekly -> * 2 * 12 months\n",
    "        + else -> consider without salary attribute (use for testing phase - predict)\n",
    "4. create a dataset with the following requirements\n",
    "    - only all which have description, min, max salary value"
   ]
  },
  {
   "cell_type": "code",
   "execution_count": 1,
   "id": "3a466161-082e-4205-9742-e9d0ca62d329",
   "metadata": {},
   "outputs": [],
   "source": [
    "import pandas as pd"
   ]
  },
  {
   "cell_type": "code",
   "execution_count": 6,
   "id": "1bc0d25f-d304-4fcb-8563-8456127b8328",
   "metadata": {},
   "outputs": [],
   "source": [
    "df = pd.read_csv(\"./dataset/linkedin-job-posting/postings.csv\")"
   ]
  },
  {
   "cell_type": "code",
   "execution_count": 7,
   "id": "52b66759-2149-4fd3-8e9d-19ada40b052d",
   "metadata": {},
   "outputs": [
    {
     "data": {
      "text/plain": [
       "(job_id                          int64\n",
       " company_name                   object\n",
       " title                          object\n",
       " description                    object\n",
       " max_salary                    float64\n",
       " pay_period                     object\n",
       " location                       object\n",
       " company_id                    float64\n",
       " views                         float64\n",
       " med_salary                    float64\n",
       " min_salary                    float64\n",
       " formatted_work_type            object\n",
       " applies                       float64\n",
       " original_listed_time          float64\n",
       " remote_allowed                float64\n",
       " job_posting_url                object\n",
       " application_url                object\n",
       " application_type               object\n",
       " expiry                        float64\n",
       " closed_time                   float64\n",
       " formatted_experience_level     object\n",
       " skills_desc                    object\n",
       " listed_time                   float64\n",
       " posting_domain                 object\n",
       " sponsored                       int64\n",
       " work_type                      object\n",
       " currency                       object\n",
       " compensation_type              object\n",
       " normalized_salary             float64\n",
       " zip_code                      float64\n",
       " fips                          float64\n",
       " dtype: object,\n",
       " (123849, 31))"
      ]
     },
     "execution_count": 7,
     "metadata": {},
     "output_type": "execute_result"
    }
   ],
   "source": [
    "df.dtypes, df.shape"
   ]
  },
  {
   "cell_type": "code",
   "execution_count": 8,
   "id": "2dfd1dc3-e9f7-4385-932d-d4d9a98bd1a0",
   "metadata": {},
   "outputs": [
    {
     "data": {
      "text/plain": [
       "job_id                             0\n",
       "company_name                    1719\n",
       "title                              0\n",
       "description                        7\n",
       "max_salary                     94056\n",
       "pay_period                     87776\n",
       "location                           0\n",
       "company_id                      1717\n",
       "views                           1689\n",
       "med_salary                    117569\n",
       "min_salary                     94056\n",
       "formatted_work_type                0\n",
       "applies                       100529\n",
       "original_listed_time               0\n",
       "remote_allowed                108603\n",
       "job_posting_url                    0\n",
       "application_url                36665\n",
       "application_type                   0\n",
       "expiry                             0\n",
       "closed_time                   122776\n",
       "formatted_experience_level     29409\n",
       "skills_desc                   121410\n",
       "listed_time                        0\n",
       "posting_domain                 39968\n",
       "sponsored                          0\n",
       "work_type                          0\n",
       "currency                       87776\n",
       "compensation_type              87776\n",
       "normalized_salary              87776\n",
       "zip_code                       20872\n",
       "fips                           27415\n",
       "dtype: int64"
      ]
     },
     "execution_count": 8,
     "metadata": {},
     "output_type": "execute_result"
    }
   ],
   "source": [
    "df.isna().sum()"
   ]
  },
  {
   "cell_type": "markdown",
   "id": "d2b0d91f-e635-403f-b159-78581cce42d3",
   "metadata": {},
   "source": [
    "- job_id\n",
    "- title\n",
    "- description\n",
    "- max_salary\n",
    "- pay_period\n",
    "- med_salary\n",
    "- min_salary\n",
    "- compensation_type"
   ]
  },
  {
   "cell_type": "code",
   "execution_count": 16,
   "id": "f0016b62-41de-4b9b-91b3-b652c2ec1911",
   "metadata": {},
   "outputs": [],
   "source": [
    "mask = (\n",
    "    df[\"title\"].notnull() & \n",
    "    df[\"description\"].notnull() & \n",
    "    df[\"max_salary\"].notnull() & \n",
    "    df[\"pay_period\"].notnull() &\n",
    "    df[\"min_salary\"].notnull()\n",
    ")"
   ]
  },
  {
   "cell_type": "code",
   "execution_count": 17,
   "id": "19ea79c4-56e9-44a7-89ef-56d7528648d6",
   "metadata": {},
   "outputs": [],
   "source": [
    "df_train = df[mask].copy()"
   ]
  },
  {
   "cell_type": "code",
   "execution_count": 18,
   "id": "55d69f29-8bfd-4d19-8433-53bab443722c",
   "metadata": {},
   "outputs": [
    {
     "data": {
      "text/plain": [
       "(job_id                          int64\n",
       " company_name                   object\n",
       " title                          object\n",
       " description                    object\n",
       " max_salary                    float64\n",
       " pay_period                     object\n",
       " location                       object\n",
       " company_id                    float64\n",
       " views                         float64\n",
       " med_salary                    float64\n",
       " min_salary                    float64\n",
       " formatted_work_type            object\n",
       " applies                       float64\n",
       " original_listed_time          float64\n",
       " remote_allowed                float64\n",
       " job_posting_url                object\n",
       " application_url                object\n",
       " application_type               object\n",
       " expiry                        float64\n",
       " closed_time                   float64\n",
       " formatted_experience_level     object\n",
       " skills_desc                    object\n",
       " listed_time                   float64\n",
       " posting_domain                 object\n",
       " sponsored                       int64\n",
       " work_type                      object\n",
       " currency                       object\n",
       " compensation_type              object\n",
       " normalized_salary             float64\n",
       " zip_code                      float64\n",
       " fips                          float64\n",
       " dtype: object,\n",
       " (29792, 31))"
      ]
     },
     "execution_count": 18,
     "metadata": {},
     "output_type": "execute_result"
    }
   ],
   "source": [
    "df_train.dtypes, df_train.shape"
   ]
  },
  {
   "cell_type": "code",
   "execution_count": 19,
   "id": "8ee460c7-0228-446e-b8d0-cdbaf4495611",
   "metadata": {},
   "outputs": [],
   "source": [
    "df_predict = df[~mask].copy()"
   ]
  },
  {
   "cell_type": "code",
   "execution_count": 20,
   "id": "5b721bc4-71ed-4889-8888-c1589bb460f8",
   "metadata": {},
   "outputs": [
    {
     "data": {
      "text/plain": [
       "(job_id                          int64\n",
       " company_name                   object\n",
       " title                          object\n",
       " description                    object\n",
       " max_salary                    float64\n",
       " pay_period                     object\n",
       " location                       object\n",
       " company_id                    float64\n",
       " views                         float64\n",
       " med_salary                    float64\n",
       " min_salary                    float64\n",
       " formatted_work_type            object\n",
       " applies                       float64\n",
       " original_listed_time          float64\n",
       " remote_allowed                float64\n",
       " job_posting_url                object\n",
       " application_url                object\n",
       " application_type               object\n",
       " expiry                        float64\n",
       " closed_time                   float64\n",
       " formatted_experience_level     object\n",
       " skills_desc                    object\n",
       " listed_time                   float64\n",
       " posting_domain                 object\n",
       " sponsored                       int64\n",
       " work_type                      object\n",
       " currency                       object\n",
       " compensation_type              object\n",
       " normalized_salary             float64\n",
       " zip_code                      float64\n",
       " fips                          float64\n",
       " dtype: object,\n",
       " (94057, 31))"
      ]
     },
     "execution_count": 20,
     "metadata": {},
     "output_type": "execute_result"
    }
   ],
   "source": [
    "df_predict.dtypes, df_predict.shape"
   ]
  },
  {
   "cell_type": "code",
   "execution_count": 21,
   "id": "091ad6ae-70c5-4426-bbc0-a72d5e027f96",
   "metadata": {},
   "outputs": [],
   "source": [
    "assert (df_train.shape[0] + df_predict.shape[0]) == df.shape[0], \"not correct data size, possibly data are missed\""
   ]
  },
  {
   "cell_type": "code",
   "execution_count": null,
   "id": "4a556afe-3de7-4908-92d3-5a3df19bfc9f",
   "metadata": {},
   "outputs": [],
   "source": []
  }
 ],
 "metadata": {
  "kernelspec": {
   "display_name": "Python 3 (ipykernel)",
   "language": "python",
   "name": "python3"
  },
  "language_info": {
   "codemirror_mode": {
    "name": "ipython",
    "version": 3
   },
   "file_extension": ".py",
   "mimetype": "text/x-python",
   "name": "python",
   "nbconvert_exporter": "python",
   "pygments_lexer": "ipython3",
   "version": "3.11.10"
  }
 },
 "nbformat": 4,
 "nbformat_minor": 5
}
