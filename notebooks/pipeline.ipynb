{
 "cells": [
  {
   "cell_type": "code",
   "execution_count": 2,
   "id": "63ad6e68-a174-4961-8f49-855a90a78aa8",
   "metadata": {},
   "outputs": [
    {
     "name": "stdout",
     "output_type": "stream",
     "text": [
      "Requirement already satisfied: metaflow in ./venv/lib/python3.11/site-packages (2.15.7)\n",
      "Requirement already satisfied: requests in ./venv/lib/python3.11/site-packages (from metaflow) (2.32.3)\n",
      "Requirement already satisfied: boto3 in ./venv/lib/python3.11/site-packages (from metaflow) (1.37.33)\n",
      "Requirement already satisfied: botocore<1.38.0,>=1.37.33 in ./venv/lib/python3.11/site-packages (from boto3->metaflow) (1.37.33)\n",
      "Requirement already satisfied: jmespath<2.0.0,>=0.7.1 in ./venv/lib/python3.11/site-packages (from boto3->metaflow) (1.0.1)\n",
      "Requirement already satisfied: s3transfer<0.12.0,>=0.11.0 in ./venv/lib/python3.11/site-packages (from boto3->metaflow) (0.11.4)\n",
      "Requirement already satisfied: charset-normalizer<4,>=2 in ./venv/lib/python3.11/site-packages (from requests->metaflow) (3.4.1)\n",
      "Requirement already satisfied: idna<4,>=2.5 in ./venv/lib/python3.11/site-packages (from requests->metaflow) (3.10)\n",
      "Requirement already satisfied: urllib3<3,>=1.21.1 in ./venv/lib/python3.11/site-packages (from requests->metaflow) (2.3.0)\n",
      "Requirement already satisfied: certifi>=2017.4.17 in ./venv/lib/python3.11/site-packages (from requests->metaflow) (2025.1.31)\n",
      "Requirement already satisfied: python-dateutil<3.0.0,>=2.1 in ./venv/lib/python3.11/site-packages (from botocore<1.38.0,>=1.37.33->boto3->metaflow) (2.9.0.post0)\n",
      "Requirement already satisfied: six>=1.5 in ./venv/lib/python3.11/site-packages (from python-dateutil<3.0.0,>=2.1->botocore<1.38.0,>=1.37.33->boto3->metaflow) (1.17.0)\n",
      "Note: you may need to restart the kernel to use updated packages.\n"
     ]
    }
   ],
   "source": [
    "%pip install metaflow"
   ]
  },
  {
   "cell_type": "code",
   "execution_count": 3,
   "id": "566b9042-155f-4a65-b292-d926e0788a11",
   "metadata": {},
   "outputs": [],
   "source": [
    "from metaflow import FlowSpec"
   ]
  },
  {
   "cell_type": "code",
   "execution_count": 4,
   "id": "83483a27-ba76-4942-bf67-f3fb10839426",
   "metadata": {},
   "outputs": [],
   "source": [
    "from metaflow import FlowSpec, step\n",
    "\n",
    "class LinearFlow(FlowSpec):\n",
    "\n",
    "    @step\n",
    "    def start(self):\n",
    "        self.my_var = 'hello world'\n",
    "        self.next(self.a)\n",
    "\n",
    "    @step\n",
    "    def a(self):\n",
    "        print('the data artifact is: %s' % self.my_var)\n",
    "        self.next(self.end)\n",
    "\n",
    "    @step\n",
    "    def end(self):\n",
    "        print('the data artifact is still: %s' % self.my_var)"
   ]
  },
  {
   "cell_type": "code",
   "execution_count": 6,
   "id": "7787636b-d8bc-4761-8047-475026907854",
   "metadata": {},
   "outputs": [
    {
     "name": "stderr",
     "output_type": "stream",
     "text": [
      "Usage: ipykernel_launcher.py [OPTIONS] COMMAND [ARGS]...\n",
      "Try 'ipykernel_launcher.py --help' for help.\n",
      "\n",
      "Error: no such option: --f\n"
     ]
    },
    {
     "ename": "SystemExit",
     "evalue": "2",
     "output_type": "error",
     "traceback": [
      "An exception has occurred, use %tb to see the full traceback.\n",
      "\u001b[31mSystemExit\u001b[39m\u001b[31m:\u001b[39m 2\n"
     ]
    }
   ],
   "source": [
    "LinearFlow()"
   ]
  },
  {
   "cell_type": "code",
   "execution_count": null,
   "id": "4f8cebb5-12a8-40b0-893b-43f427cf3d50",
   "metadata": {},
   "outputs": [],
   "source": []
  },
  {
   "cell_type": "code",
   "execution_count": null,
   "id": "d3d0fd53-b2c1-4909-a2ff-625a7e30a69c",
   "metadata": {},
   "outputs": [],
   "source": []
  }
 ],
 "metadata": {
  "kernelspec": {
   "display_name": "venv",
   "language": "python",
   "name": "python3"
  },
  "language_info": {
   "codemirror_mode": {
    "name": "ipython",
    "version": 3
   },
   "file_extension": ".py",
   "mimetype": "text/x-python",
   "name": "python",
   "nbconvert_exporter": "python",
   "pygments_lexer": "ipython3",
   "version": "3.11.10"
  }
 },
 "nbformat": 4,
 "nbformat_minor": 5
}
